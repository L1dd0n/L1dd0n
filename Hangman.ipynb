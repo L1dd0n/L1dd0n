{
  "nbformat": 4,
  "nbformat_minor": 0,
  "metadata": {
    "colab": {
      "name": "Hangman",
      "provenance": [],
      "authorship_tag": "ABX9TyOeM7FO38tKDn45TTutef/X",
      "include_colab_link": true
    },
    "kernelspec": {
      "name": "python3",
      "display_name": "Python 3"
    },
    "language_info": {
      "name": "python"
    }
  },
  "cells": [
    {
      "cell_type": "markdown",
      "metadata": {
        "id": "view-in-github",
        "colab_type": "text"
      },
      "source": [
        "<a href=\"https://colab.research.google.com/github/L1dd0n/L1dd0n/blob/main/Hangman.ipynb\" target=\"_parent\"><img src=\"https://colab.research.google.com/assets/colab-badge.svg\" alt=\"Open In Colab\"/></a>"
      ]
    },
    {
      "cell_type": "markdown",
      "source": [
        "#Hangman game\n",
        "\n"
      ],
      "metadata": {
        "id": "GkXTWkpEoExS"
      }
    },
    {
      "cell_type": "code",
      "source": [
        "import random\n",
        "def gallows_progress():\n",
        "  whole = (\" ______ \\n |    |\\n O    | \\n/|\\   | \\n/ \\   |\")\n",
        "  gallows = (\" ______ \\n |    |\\n      | \\n      | \\n      |\\n     ___\")\n",
        "  head = (\" ______ \\n |    |\\n O    | \\n      | \\n      |\\n     ___\")\n",
        "  body = (\" ______ \\n |    |\\n O    | \\n |    | \\n      |\\n     ___\")\n",
        "  left_arm = (\" ______ \\n |    |\\n O    | \\n/|    | \\n      |\\n     ___\")\n",
        "  right_arm = (\" ______ \\n |    |\\n O    | \\n/|\\   | \\n      |\\n     ___\")\n",
        "  left_leg = (\" ______ \\n |    |\\n O    | \\n/|\\   | \\n/     |\\n     ___\")\n",
        "  right_leg = (\" ______ \\n |    |\\n O    | \\n/|\\   | \\n/ \\   |\\n     ___\")\n",
        "  body_parts = [head, body, left_arm, right_arm, left_leg, right_leg]\n",
        "\n",
        "  \n",
        "  \n",
        "  words = [\"sense\", \"slimy\", \"loose\", \"follow\", \"bone\", \"slip\", \"modern\", \"payment\", \"earn\", \"kettle\"]\n",
        "  valid = False \n",
        "  wrong_letter = []\n",
        "  correct_letter = []\n",
        "  random_word = random.choice(words)\n",
        "  guess = 0\n",
        "  print(gallows)\n",
        "  while valid == False: \n",
        "    guess += 1\n",
        "    letter = input(\"pick a letter:\")\n",
        "    if letter in random_word:\n",
        "      print(gallows)\n",
        "      print(\"that's correct\")\n",
        "      correct_letter += letter\n",
        "      print(\"correct letters are: \", correct_letter)\n",
        "    for i in body_parts:\n",
        "     if letter not in random_word:\n",
        "       print(i)\n",
        "       wrong_letter += letter\n",
        "       print(\"wrong letter are:\", wrong_letter)\n",
        "       \n",
        "    \n",
        "\n",
        "      \n",
        "    \n",
        "\n",
        "\n",
        "\n",
        "gallows_progress()\n"
      ],
      "metadata": {
        "id": "zP6euOt5oLQ-"
      },
      "execution_count": null,
      "outputs": []
    }
  ]
}