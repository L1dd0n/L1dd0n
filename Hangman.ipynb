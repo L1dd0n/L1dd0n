{
  "nbformat": 4,
  "nbformat_minor": 0,
  "metadata": {
    "colab": {
      "name": "Hangman",
      "provenance": [],
      "authorship_tag": "ABX9TyOR9pxeqx/6uDNGOy8EZ2P7",
      "include_colab_link": true
    },
    "kernelspec": {
      "name": "python3",
      "display_name": "Python 3"
    },
    "language_info": {
      "name": "python"
    }
  },
  "cells": [
    {
      "cell_type": "markdown",
      "metadata": {
        "id": "view-in-github",
        "colab_type": "text"
      },
      "source": [
        "<a href=\"https://colab.research.google.com/github/L1dd0n/L1dd0n/blob/main/Hangman.ipynb\" target=\"_parent\"><img src=\"https://colab.research.google.com/assets/colab-badge.svg\" alt=\"Open In Colab\"/></a>"
      ]
    },
    {
      "cell_type": "markdown",
      "source": [
        "#Hangman game\n",
        "\n"
      ],
      "metadata": {
        "id": "GkXTWkpEoExS"
      }
    },
    {
      "cell_type": "code",
      "source": [
        "import random\n",
        "def gallows_progress():\n",
        "  whole = (\" ______ \\n |    |\\n O    | \\n/|\\   | \\n/ \\   |\")\n",
        "  gallows = (\" ______ \\n |    |\\n      | \\n      | \\n      |\\n     ___\")\n",
        "  head = (\" ______ \\n |    |\\n O    | \\n      | \\n      |\\n     ___\")\n",
        "  body = (\" ______ \\n |    |\\n O    | \\n |    | \\n      |\\n     ___\")\n",
        "  left_arm = (\" ______ \\n |    |\\n O    | \\n/|    | \\n      |\\n     ___\")\n",
        "  right_arm = (\" ______ \\n |    |\\n O    | \\n/|\\   | \\n      |\\n     ___\")\n",
        "  left_leg = (\" ______ \\n |    |\\n O    | \\n/|\\   | \\n/     |\\n     ___\")\n",
        "  right_leg = (\" ______ \\n |    |\\n O    | \\n/|\\   | \\n/ \\   |\\n     ___\")\n",
        "  \n",
        "  \n",
        "  words = [\"sense\", \"slimy\", \"loose\", \"follow\", \"bone\", \"slip\", \"modern\", \"payment\", \"earn\", \"kettle\"]\n",
        "  valid = False \n",
        "  wrong_letter = []\n",
        "  correct_letter = []\n",
        "  random_word = random.choice(words)\n",
        "  guess = 0\n",
        "  print(gallows)\n",
        "  while valid == False:\n",
        "    letter = input(\"pick a letter:\")\n",
        "    \n",
        "    for i in letter:\n",
        "      guess += 1\n",
        "    if letter in random_word:\n",
        "      print(gallows)\n",
        "      print(\"that's correct\")\n",
        "      correct_letter += letter\n",
        "      print(\"correct letters are: \", correct_letter)\n",
        "    else:\n",
        "      wrong_letter += letter\n",
        "      print(\"wrong letter are:\", wrong_letter)\n",
        "      print(head)\n",
        "      i = \n",
        "\n",
        "      \n",
        "    \n",
        "\n",
        "\n",
        "\n",
        "gallows_progress()\n"
      ],
      "metadata": {
        "colab": {
          "base_uri": "https://localhost:8080/"
        },
        "id": "zP6euOt5oLQ-",
        "outputId": "4f08f0ce-fae1-4d94-c360-5e30e49be21b"
      },
      "execution_count": null,
      "outputs": [
        {
          "output_type": "stream",
          "name": "stdout",
          "text": [
            " ______ \n",
            " |    |\n",
            "      | \n",
            "      | \n",
            "      |\n",
            "     ___\n",
            "pick a letter:g\n",
            "wrong letter are: ['g']\n",
            " ______ \n",
            " |    |\n",
            " O    | \n",
            "      | \n",
            "      |\n",
            "     ___\n",
            "pick a letter:d\n",
            "wrong letter are: ['g', 'd']\n",
            " ______ \n",
            " |    |\n",
            " O    | \n",
            "      | \n",
            "      |\n",
            "     ___\n",
            "pick a letter:e\n",
            " ______ \n",
            " |    |\n",
            "      | \n",
            "      | \n",
            "      |\n",
            "     ___\n",
            "that's correct\n",
            "correct letters are:  ['e']\n"
          ]
        }
      ]
    }
  ]
}