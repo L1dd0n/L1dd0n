{
  "nbformat": 4,
  "nbformat_minor": 0,
  "metadata": {
    "colab": {
      "provenance": [],
      "authorship_tag": "ABX9TyOr/m6oGa2KEzY+c4W1PFUf",
      "include_colab_link": true
    },
    "kernelspec": {
      "name": "python3",
      "display_name": "Python 3"
    },
    "language_info": {
      "name": "python"
    }
  },
  "cells": [
    {
      "cell_type": "markdown",
      "metadata": {
        "id": "view-in-github",
        "colab_type": "text"
      },
      "source": [
        "<a href=\"https://colab.research.google.com/github/L1dd0n/L1dd0n/blob/main/Untitled0.ipynb\" target=\"_parent\"><img src=\"https://colab.research.google.com/assets/colab-badge.svg\" alt=\"Open In Colab\"/></a>"
      ]
    },
    {
      "cell_type": "markdown",
      "source": [],
      "metadata": {
        "id": "0HbL95lOxjJL"
      }
    },
    {
      "cell_type": "code",
      "source": [
        "!pip install tabula-py"
      ],
      "metadata": {
        "id": "Jq_obN-1WFAT",
        "colab": {
          "base_uri": "https://localhost:8080/"
        },
        "outputId": "da7aec62-1a63-43fb-d111-6bc46535c2c9"
      },
      "execution_count": 28,
      "outputs": [
        {
          "output_type": "stream",
          "name": "stdout",
          "text": [
            "Looking in indexes: https://pypi.org/simple, https://us-python.pkg.dev/colab-wheels/public/simple/\n",
            "Requirement already satisfied: tabula-py in /usr/local/lib/python3.7/dist-packages (2.5.1)\n",
            "Requirement already satisfied: pandas>=0.25.3 in /usr/local/lib/python3.7/dist-packages (from tabula-py) (1.3.5)\n",
            "Requirement already satisfied: numpy in /usr/local/lib/python3.7/dist-packages (from tabula-py) (1.21.6)\n",
            "Requirement already satisfied: distro in /usr/local/lib/python3.7/dist-packages (from tabula-py) (1.8.0)\n",
            "Requirement already satisfied: python-dateutil>=2.7.3 in /usr/local/lib/python3.7/dist-packages (from pandas>=0.25.3->tabula-py) (2.8.2)\n",
            "Requirement already satisfied: pytz>=2017.3 in /usr/local/lib/python3.7/dist-packages (from pandas>=0.25.3->tabula-py) (2022.4)\n",
            "Requirement already satisfied: six>=1.5 in /usr/local/lib/python3.7/dist-packages (from python-dateutil>=2.7.3->pandas>=0.25.3->tabula-py) (1.15.0)\n"
          ]
        }
      ]
    },
    {
      "cell_type": "code",
      "execution_count": 29,
      "metadata": {
        "id": "QBYFVhYcXR97",
        "outputId": "a86158a2-2e46-4d04-de3b-86c81e0efd5b",
        "colab": {
          "base_uri": "https://localhost:8080/"
        }
      },
      "outputs": [
        {
          "output_type": "stream",
          "name": "stdout",
          "text": [
            "[-3, -6, -7, -7, -4, -1, 1, -2, -3, -4, -5, -6, -9, -7, -10, -10, -13, -16]\n"
          ]
        }
      ],
      "source": [
        "def stair_problem(stairs):\n",
        "    difference = []    \n",
        "    for i in range(len(stairs)):\n",
        "        if len(difference) > 0:\n",
        "            difference.append(((stairs[i]- 193) + difference[i-1]))\n",
        "            # print(difference[i-1])\n",
        "        else:\n",
        "            difference.append((stairs[i])- 193)\n",
        "        stairs[i] = 193 \n",
        "    print(difference)\n",
        "    # print(stairs)\n",
        "stairs = [190, 190, 192, 193, 196, 196, 195, 190, 192, 192, 192, 192, 190, 195, 190, 193, 190, 190]\n",
        "stair_problem(stairs)\n",
        "\n"
      ]
    },
    {
      "cell_type": "markdown",
      "source": [],
      "metadata": {
        "id": "NFjWrBiIxiH0"
      }
    },
    {
      "cell_type": "code",
      "source": [
        "#reading in document and concating all tables \n",
        "from tabula.io import read_pdf\n",
        "import pandas as pd\n",
        "\n",
        "def read_stair_pdf():\n",
        "  pdf_path = \"https://github.com/L1dd0n/L1dd0n/raw/main/Risers_in_WM.pdf\"\n",
        "  df_list = read_pdf(pdf_path, pages= \"all\")\n",
        "  first_df = pd.concat(df_list[0:], axis =1)\n",
        "  \n",
        "  return(first_df)\n",
        "\n",
        "def drop_columns(df):\n",
        "  unnamed_cols = df.columns.str.contains('Unnamed')\n",
        "  df_l = df.drop(df[df.columns[unnamed_cols]], axis=1)\n",
        "  return(df_l)\n",
        " \n",
        " \n",
        "def insert_columns(df):\n",
        "  # stair_list = []\n",
        "\n",
        "  return df[\"454\"]\n",
        "  \n",
        "#  for column in df:\n",
        "#     print(df[column])\n",
        "\n",
        "\n",
        "\n",
        "#calculate stair difference\n",
        "df_v1 = read_stair_pdf()\n",
        "df_v2 = drop_columns(df_v1) \n",
        "df_v3 = insert_columns(df_v2)\n",
        "stair_problem(df_v3)\n",
        "# ! rm *.*\n"
      ],
      "metadata": {
        "id": "stO2m18aXvxY",
        "outputId": "735f4e13-12f2-4f2c-fea4-0caeedf0f61b",
        "colab": {
          "base_uri": "https://localhost:8080/"
        }
      },
      "execution_count": 41,
      "outputs": [
        {
          "output_type": "stream",
          "name": "stdout",
          "text": [
            "[15, 12, 11, 11, 14, 17, 19, 16, 15, 14, 13, 12, 9, 11, 8, 8, 5, 2]\n"
          ]
        },
        {
          "output_type": "stream",
          "name": "stderr",
          "text": [
            "/usr/local/lib/python3.7/dist-packages/ipykernel_launcher.py:9: SettingWithCopyWarning: \n",
            "A value is trying to be set on a copy of a slice from a DataFrame\n",
            "\n",
            "See the caveats in the documentation: https://pandas.pydata.org/pandas-docs/stable/user_guide/indexing.html#returning-a-view-versus-a-copy\n",
            "  if __name__ == '__main__':\n",
            "/usr/local/lib/python3.7/dist-packages/pandas/core/series.py:1056: SettingWithCopyWarning: \n",
            "A value is trying to be set on a copy of a slice from a DataFrame\n",
            "\n",
            "See the caveats in the documentation: https://pandas.pydata.org/pandas-docs/stable/user_guide/indexing.html#returning-a-view-versus-a-copy\n",
            "  cacher_needs_updating = self._check_is_chained_assignment_possible()\n"
          ]
        }
      ]
    },
    {
      "cell_type": "code",
      "source": [
        "from tabula.io import read_pdf\n",
        "import pandas as pd\n",
        "\n",
        "def read_stair_pdf():\n",
        "  pdf_path = \"https://github.com/L1dd0n/L1dd0n/raw/main/Risers_in_WM.pdf\"\n",
        "  df_list = read_pdf(pdf_path, pages= \"all\",)\n",
        "  first_df = pd.concat(df_list[0:], axis =1)\n",
        "  \n",
        "  return(first_df)\n",
        "\n",
        "read_stair_pdf()"
      ],
      "metadata": {
        "id": "-RfWCLV7acHA"
      },
      "execution_count": null,
      "outputs": []
    }
  ]
}