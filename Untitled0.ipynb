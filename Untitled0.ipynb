{
  "nbformat": 4,
  "nbformat_minor": 0,
  "metadata": {
    "colab": {
      "provenance": [],
      "authorship_tag": "ABX9TyNY9P/rKU977FbuUbXJtiIc",
      "include_colab_link": true
    },
    "kernelspec": {
      "name": "python3",
      "display_name": "Python 3"
    },
    "language_info": {
      "name": "python"
    }
  },
  "cells": [
    {
      "cell_type": "markdown",
      "metadata": {
        "id": "view-in-github",
        "colab_type": "text"
      },
      "source": [
        "<a href=\"https://colab.research.google.com/github/L1dd0n/L1dd0n/blob/main/Untitled0.ipynb\" target=\"_parent\"><img src=\"https://colab.research.google.com/assets/colab-badge.svg\" alt=\"Open In Colab\"/></a>"
      ]
    },
    {
      "cell_type": "code",
      "execution_count": null,
      "metadata": {
        "id": "QBYFVhYcXR97"
      },
      "outputs": [],
      "source": [
        "import tabula\n",
        "import pandas as pd\n",
        "from google.colab import files\n",
        "def stair_problem(stairs):\n",
        "    difference = []    \n",
        "    for i in range(len(stairs)):\n",
        "        if len(difference) > 1:\n",
        "            difference.append(((stairs[i]- 205) + difference[i-1]))\n",
        "            print(difference[i-1])\n",
        "        else:\n",
        "            difference.append(abs((205 - stairs[i])))\n",
        "        stairs[i] = 205 \n",
        "    print(difference)\n",
        "    print(stairs)\n",
        "uploaded = files.upload()\n",
        "pdf_path = \"Copy of Risers in WM.pdf\"\n",
        "df = tabula.io.read_pdf(pdf_path, pages= \"all\")  \n",
        "stair_problem(df)\n",
        "\n"
      ]
    }
  ]
}