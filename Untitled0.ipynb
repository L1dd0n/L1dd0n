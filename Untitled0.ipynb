{
  "nbformat": 4,
  "nbformat_minor": 0,
  "metadata": {
    "colab": {
      "provenance": [],
      "authorship_tag": "ABX9TyPsj7o25RlWvVaVZYn+K5h+",
      "include_colab_link": true
    },
    "kernelspec": {
      "name": "python3",
      "display_name": "Python 3"
    },
    "language_info": {
      "name": "python"
    }
  },
  "cells": [
    {
      "cell_type": "markdown",
      "metadata": {
        "id": "view-in-github",
        "colab_type": "text"
      },
      "source": [
        "<a href=\"https://colab.research.google.com/github/L1dd0n/L1dd0n/blob/main/Untitled0.ipynb\" target=\"_parent\"><img src=\"https://colab.research.google.com/assets/colab-badge.svg\" alt=\"Open In Colab\"/></a>"
      ]
    },
    {
      "cell_type": "code",
      "execution_count": null,
      "metadata": {
        "id": "QBYFVhYcXR97"
      },
      "outputs": [],
      "source": [
        "def stair_problem(stairs):\n",
        "    difference = []    \n",
        "    for i in range(len(stairs)):\n",
        "        if len(difference) > 0:\n",
        "            difference.append(((stairs[i]- 193) + difference[i-1]))\n",
        "            print(difference[i-1])\n",
        "        else:\n",
        "            difference.append((stairs[i])- 193)\n",
        "        stairs[i] = 193 \n",
        "    print(difference)\n",
        "    print(stairs)\n",
        "stairs = [190, 190, 192, 193, 196, 196, 195, 190, 192, 192, 192, 192, 190, 195, 190, 193, 190,190]\n",
        "stair_problem(stairs)\n",
        "\n"
      ]
    },
    {
      "cell_type": "code",
      "source": [
        "from tabula.io import read_pdf\n",
        "pdf_path = \"Copy of Risers in WM.pdf\"\n",
        "df = read_pdf(pdf_path) \n",
        "\n",
        "print(df)"
      ],
      "metadata": {
        "id": "stO2m18aXvxY",
        "outputId": "8231cf09-fdbc-49df-a711-8b5c34e36b3f",
        "colab": {
          "base_uri": "https://localhost:8080/"
        }
      },
      "execution_count": null,
      "outputs": [
        {
          "output_type": "stream",
          "name": "stderr",
          "text": [
            "WARNING:tabula.util:'pages' argument isn't specified.Will extract only from page 1 by default.\n"
          ]
        },
        {
          "output_type": "stream",
          "name": "stdout",
          "text": [
            "[    Unnamed: 0  454  Unnamed: 1  455  Unnamed: 2    456  Unnamed: 3    457\n",
            "0            1  208         NaN  204         NaN  218.0         NaN  230.0\n",
            "1            2  190        18.0  190        14.0  218.0         0.0  210.0\n",
            "2            3  192        -2.0  193        -3.0  218.0         0.0  215.0\n",
            "3            4  193        -1.0  193         0.0  213.0         5.0  205.0\n",
            "4            5  196        -3.0  195        -2.0  215.0        -2.0  210.0\n",
            "5            6  196         0.0  192         3.0  214.0         1.0  212.0\n",
            "6            7  195         1.0  192         0.0  215.0        -1.0  214.0\n",
            "7            8  190         5.0  191         1.0  225.0       -10.0  219.0\n",
            "8            9  192        -2.0  190         1.0  216.0         9.0  215.0\n",
            "9           10  192         0.0  190         0.0  212.0         4.0  219.0\n",
            "10          11  192         0.0  195        -5.0  218.0        -6.0  220.0\n",
            "11          12  192         0.0  190         5.0  218.0         0.0  213.0\n",
            "12          13  190         2.0  193        -3.0  210.0         8.0  200.0\n",
            "13          14  195        -5.0  195        -2.0  216.0        -6.0    NaN\n",
            "14          15  190         5.0  191         4.0  220.0        -4.0  220.0\n",
            "15          16  193        -3.0  189         2.0    NaN       220.0    NaN\n",
            "16          17  190         3.0  198        -9.0    NaN         0.0    NaN\n",
            "17          18  190         0.0  198         0.0    NaN         0.0    NaN]\n"
          ]
        }
      ]
    }
  ]
}