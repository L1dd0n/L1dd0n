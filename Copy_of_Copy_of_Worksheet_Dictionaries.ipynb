{
  "nbformat": 4,
  "nbformat_minor": 0,
  "metadata": {
    "colab": {
      "name": "Copy of Copy of Worksheet - Dictionaries.ipynb",
      "provenance": [],
      "collapsed_sections": [],
      "include_colab_link": true
    },
    "kernelspec": {
      "name": "python3",
      "display_name": "Python 3"
    },
    "language_info": {
      "name": "python"
    }
  },
  "cells": [
    {
      "cell_type": "markdown",
      "metadata": {
        "id": "view-in-github",
        "colab_type": "text"
      },
      "source": [
        "<a href=\"https://colab.research.google.com/github/L1dd0n/L1dd0n/blob/main/Copy_of_Copy_of_Worksheet_Dictionaries.ipynb\" target=\"_parent\"><img src=\"https://colab.research.google.com/assets/colab-badge.svg\" alt=\"Open In Colab\"/></a>"
      ]
    },
    {
      "cell_type": "markdown",
      "metadata": {
        "id": "AiiF1h2X4PHP"
      },
      "source": [
        "# Dictionaries\n",
        "\n",
        "---\n",
        "\n",
        "A **dictionary** is a collection of dissimilar data stored together in one *record*. Each item of data has a  (or key) that describes its paired value.  \n",
        "\n",
        "Create a dictionary object by declaring the set of keys and values, e.g.:\n",
        "\n",
        "```\n",
        "   transport = {\n",
        "       \"type\":\"bus\",\n",
        "       \"numPassengers\":72,\n",
        "       \"colour\":\"blue\",\n",
        "       \"fuel\":\"diesel\"\n",
        "   }\n",
        "```\n",
        "\n",
        "To access a value in a dictionary, use its key:  \n",
        "\n",
        "```\n",
        "transport[\"type\"] = \"coach\"\n",
        "transport_type = transport[\"type\"]\n",
        "transport_colour = transport[\"colour\"]\n",
        "transport[\"fuel\"] = petrol\n",
        "```\n",
        "\n",
        "To add a new key/value pair to a dictionary, simply assign a value to a new key:  \n",
        "```\n",
        "transport[\"seats\"] = 54\n",
        "```\n",
        "\n",
        "The transport dictionary will now look like this:  \n",
        "```\n",
        "   transport = {\n",
        "       \"type\":\"bus\",\n",
        "       \"numPassengers\":72,\n",
        "       \"colour\":\"blue\",\n",
        "       \"fuel\":\"diesel\",\n",
        "       \"seats\":54\n",
        "   }\n",
        "```\n",
        "\n"
      ]
    },
    {
      "cell_type": "markdown",
      "metadata": {
        "id": "1uZ5kNWB6CqK"
      },
      "source": [
        "---\n",
        "### Exercise 1 - print dictionary\n",
        "\n",
        "Write a function which will:  \n",
        "\n",
        "*  create an empty dictionary for a person (name, age and postcode, with values \"\", 0 and \"\")\n",
        "*  ask the user for name, age and postcode and assign the values to the correct keys in the dictionary  \n",
        "*  print the dictionary\n",
        "\n",
        "Test input:  \n",
        "Jack Jones  \n",
        "16  \n",
        "AB5 3DF  \n",
        "\n",
        "Expected output:  \n",
        "```{'name':'Jack Jones', 'age':16, 'postcode':'AB5 3DF'}```"
      ]
    },
    {
      "cell_type": "code",
      "metadata": {
        "id": "Ac7VQTj94Mrc",
        "outputId": "bb7c3e26-3db7-44e8-f108-13e02bad4c3b",
        "colab": {
          "base_uri": "https://localhost:8080/"
        }
      },
      "source": [
        "def prin_dict():\n",
        "  di = {}\n",
        "  name = input(\"what is your name?: \")\n",
        "  age = input(\"what is your age?: \")\n",
        "  postcode = input(\"what is your postcode?: \")\n",
        "  di[\"name\"] = name\n",
        "  di[\"age\"] = age\n",
        "  di[\"postcode\"] = postcode\n",
        "\n",
        "  print(di)\n",
        "\n",
        "\n",
        "\n",
        "\n",
        "\n",
        "prin_dict()"
      ],
      "execution_count": null,
      "outputs": [
        {
          "output_type": "stream",
          "name": "stdout",
          "text": [
            "what is your name?: Jack Jones\n",
            "what is your age?: 16\n",
            "what is your postcode?: AB5 3DF\n",
            "{'name': 'Jack Jones', 'age': '16', 'postcode': 'AB5 3DF'}\n"
          ]
        }
      ]
    },
    {
      "cell_type": "markdown",
      "metadata": {
        "id": "0OtNqNKv7WKm"
      },
      "source": [
        "---\n",
        "### Exercise 2 - create a dictionary\n",
        "\n",
        "Write a function that will create two dictionaries,without values:  \n",
        "\n",
        "1.  person (with keys firstname, surname, birthdate, postcode)  \n",
        "2.  car (with key/value pairs as follows:  make - Vauxhall, model - Corsa, engineSize - 1199, fuelType - unleaded, num_doors - 4)  \n",
        "\n",
        "*   ask the user to enter the values for the person dictionary  \n",
        "*   print, on one line, the person's name from the person dictionary and the make of the car from the car dictionary.\n",
        "\n",
        "Test input:  \n",
        "Jack  \n",
        "Jones  \n",
        "2005/02/02    \n",
        "AB5 3DF  \n",
        "\n",
        "Expected output:  \n",
        "Jack Jones Vauxhall"
      ]
    },
    {
      "cell_type": "code",
      "metadata": {
        "id": "ZyqhaBCC-GdI",
        "outputId": "5cd62a7c-5138-4019-9367-693a8df0a8c1",
        "colab": {
          "base_uri": "https://localhost:8080/"
        }
      },
      "source": [
        "def create():\n",
        "  person = {}\n",
        "  car = {\"make\" : \"Vauxhall\", \"model\": \"Corsa\", \"enginesize\" : 1199, \"fueltype\":  \"unleaded\", \"num_doors\": 4}\n",
        "  \n",
        "  name = input(\"what is you first name?: \")\n",
        "  surname = input(\"what is your surname?: \")\n",
        "  birthdate = input(\"what is your birthdate?: \")\n",
        "  postcode = input(\"what is your postcode?: \")\n",
        "  \n",
        "  person[\"name\"] = name\n",
        "  person[\"surname\"] = surname\n",
        "  person[\"birthdate\"] = birthdate\n",
        "  person[\"postcode\"] = postcode\n",
        "\n",
        "  person_name = person[\"name\"]\n",
        "  person_surname = person[\"surname\"]\n",
        "  car_make = car[\"make\"]\n",
        "  \n",
        "  \n",
        "  print(person_name, person_surname , car_make)\n",
        "\n",
        "\n",
        "create()\n"
      ],
      "execution_count": null,
      "outputs": [
        {
          "output_type": "stream",
          "name": "stdout",
          "text": [
            "what is you first name?: jack \n",
            "what is your surname?: jones\n",
            "what is your birthdate?: 2005/02/02\n",
            "what is your postcode?: AB5 3DF\n",
            "jack  jones Vauxhall\n"
          ]
        }
      ]
    },
    {
      "cell_type": "markdown",
      "metadata": {
        "id": "gYuuOUYw-G4I"
      },
      "source": [
        "---\n",
        "### Exercise 3 - check dictionary values\n",
        "\n",
        "Write a new function which will:\n",
        "\n",
        "*  set up the same two dictionaries as in Exercise 2  \n",
        "*  ask the user to enter the details to complete the person record  \n",
        "*  calculate the person's age  \n",
        "*  if the person is under 17 then print a message to say that they can't buy a car as they are too young to drive\n",
        "*  else if the person is under 25 then print a message to say that an engine size under 1200 is recommended  \n",
        "*  ask the user to enter the make of car that the person is looking for  \n",
        "*  if the user enters the same make as that stored in the car record, then print a message to say that you have one car of that make in stock and print all the details of the car that you have the record for\n",
        "*  else (if the user enters any other car make) then print a message to say sorry that you don't have any cars of that make in stock\n",
        "*  print a message to say that the user can get more details for stockist in the <user's postcode> area if they call 01234567890\n",
        "*  print a message to say \"Thank you <user's name> for using our site\"  \n",
        "\n",
        "Test input:  \n",
        "Jack  \n",
        "Jones  \n",
        "2005/02/02  \n",
        "AB5 3DF  \n",
        "Vauxhall  \n",
        "\n",
        "Expected output:  \n",
        "You are too young to drive\n",
        "\n",
        "Test input:  \n",
        "John  \n",
        "Jones  \n",
        "2003/02/02  \n",
        "AB5 3DF  \n",
        "Vauxhall \n",
        "\n",
        "Expected output:  \n",
        "An engine size under 1200 is recommended  \n",
        "We have one Vauxhall in stock, details:  \n",
        "Make - Vauxhall    \n",
        "Model - Corsa    \n",
        "Engine size - 1199  \n",
        "Fuel type - unleaded   \n",
        "Number of doors - 4  \n",
        "You can get more details of stockists near AB5 3DF on 01234567890  \n",
        "Thank you John Jones for using our site.     \n",
        "\n",
        "Test input:  \n",
        "John  \n",
        "Jones  \n",
        "2003/02/02  \n",
        "AB5 3DF  \n",
        "Ford  \n",
        "\n",
        "Expected output:  \n",
        "An engine size under 1200 is recommended  \n",
        "Sorry, we don't have any of that make in stock  \n"
      ]
    },
    {
      "cell_type": "code",
      "metadata": {
        "id": "Wp9Il2JG_hDh",
        "outputId": "e1575b3f-40da-42ea-f2af-13d90ff12908",
        "colab": {
          "base_uri": "https://localhost:8080/"
        }
      },
      "source": [
        "from datetime import datetime, timedelta\n",
        "\n",
        "\n",
        "def check():\n",
        "  person = {}\n",
        "  car = {\"make\" : \"vauxhall\", \"model\": \"corsa\", \"enginesize\" : 1199, \"fueltype\":  \"unleaded\", \"num_doors\": 4}\n",
        "  \n",
        "  name = input(\"what is you first name?: \")\n",
        "  surname = input(\"what is your surname?: \")\n",
        "  birthdate = input(\"what is your birthdate?: \")\n",
        "  postcode = input(\"what is your postcode?: \")\n",
        "  \n",
        "  person[\"name\"] = name\n",
        "  person[\"surname\"] = surname\n",
        "  person[\"birthdate\"] = birthdate\n",
        "  person[\"postcode\"] = postcode\n",
        "\n",
        "  dates = birthdate.split(\"/\")\n",
        "  year = int(dates[0]) \n",
        "  month = int(dates[1])\n",
        "  day = int(dates[2])\n",
        "  \n",
        "  user_date = datetime(year, month, day)\n",
        "  current_date = datetime.now()\n",
        "  days = (current_date - user_date)\n",
        "  age = int(days.days / 365.25)\n",
        "  \n",
        "\n",
        "  if age < 17:\n",
        "    return \"you are too young to buy a car\"\n",
        "    \n",
        "  elif age < 25:\n",
        "    print(\"an engine size under 1200 is recommended\")\n",
        "  user_car = input(\"please enter the make of the car you are looking for \")\n",
        "  if user_car == car[\"make\"]:\n",
        "    print(\"we have one\", car[\"make\"], \"in stock, details:\")\n",
        "    print(\"make -\", car[\"make\"])\n",
        "    print(\"model -\", car[\"model\"])\n",
        "    print(\"enginesize -\", car[\"enginesize\"])\n",
        "    print(\"fueltype -\", car[\"fueltype\"])\n",
        "    print(\"num_doors -\", car[\"num_doors\"])\n",
        "    print(\"You can get more details of stockists near\", postcode,\"on 01234567890\" )\n",
        "    print(\"thank you\", name, surname, \"for using our site.\")\n",
        "  else:\n",
        "    print(\"Sorry, we don't have any of that make in stock\")\n",
        "\n",
        "\n",
        "\n",
        "\n",
        "check()\n"
      ],
      "execution_count": null,
      "outputs": [
        {
          "output_type": "stream",
          "name": "stdout",
          "text": [
            "what is you first name?: john\n",
            "what is your surname?: jones\n",
            "what is your birthdate?: 2003/02/02\n",
            "what is your postcode?: AB5 3DF\n",
            "an engine size under 1200 is recommended\n",
            "please enter the make of the car you are looking for vauxhall\n",
            "we have one vauxhall in stock, details:\n",
            "make - vauxhall\n",
            "model - corsa\n",
            "enginesize - 1199\n",
            "fueltype - unleaded\n",
            "num_doors - 4\n",
            "You can get more details of stockists near AB5 3DF on 01234567890\n",
            "thank you john jones for using our site.\n"
          ]
        }
      ]
    },
    {
      "cell_type": "markdown",
      "metadata": {
        "id": "I6dUiRwn7Gkg"
      },
      "source": [
        "---\n",
        "### Exercise 4 - print keys and values\n",
        "\n",
        "Two dictionaries have been created below.  You can print a list of the dictionary's keys using `dictionary_name.keys()` and the values using `dictionary_name.values()`\n",
        "\n",
        "Write a function which will accept a dictionary as a parameter and will:  \n",
        "*  print the dictionary keys as a list   \n",
        "*  print the dictionary values as a list  \n",
        "\n",
        "*Hint*:  you will need to cast the keys as a list (`list(dictionary_name.keys()`)  and do the same for the values.\n",
        "\n",
        "**Expected Output**\n",
        "\n",
        "Input: English  \n",
        "Output: \n",
        "['Andy', 'Angela']  \n",
        "[95, 53]  \n",
        "\n",
        "Input: Maths  \n",
        "Output:  \n",
        "['Andy', 'Angela']  \n",
        "[58, 72] \n",
        " \n",
        "\n",
        "\n"
      ]
    },
    {
      "cell_type": "code",
      "metadata": {
        "id": "FApOckhJEsMs",
        "outputId": "ecc85b66-9057-4964-d081-f08c94760e98",
        "colab": {
          "base_uri": "https://localhost:8080/"
        }
      },
      "source": [
        "def display_dictionary(scores):\n",
        "  if scores == english:\n",
        "    print(list(english.keys()))\n",
        "    print(list(english.values()))\n",
        "  if scores == maths:\n",
        "    print(list(maths.keys()))\n",
        "    print(list(maths.values()))\n",
        "\n",
        "english = {'Andy': 95, 'Angela': 53}\n",
        "maths = {'Andy': 58, 'Angela': 72}\n",
        "\n",
        "\n",
        "\n",
        "display_dictionary(english)\n",
        "display_dictionary(maths)"
      ],
      "execution_count": null,
      "outputs": [
        {
          "output_type": "stream",
          "name": "stdout",
          "text": [
            "['Andy', 'Angela']\n",
            "[95, 53]\n",
            "['Andy', 'Angela']\n",
            "[58, 72]\n"
          ]
        }
      ]
    },
    {
      "cell_type": "markdown",
      "metadata": {
        "id": "segSpkmBFSJl"
      },
      "source": [
        "---\n",
        "### Exercise 5 - add field\n",
        "\n",
        "Write a function which will:\n",
        "\n",
        "*  create a new dictionary called **science_scores** with values of 0 for both Andy and Angela\n",
        "*  update Andy's score for science to 73 and Angela's score to 73   \n",
        "*  create a new key/value pair by adding another learner to the `science_scores`  dictionary (George has a score of 55)    \n",
        "*  print the `science_scores` dictionary to check results  \n",
        "\n",
        "Expected Output\n",
        "\n",
        "{'Andy': 73, 'Angela': 73, 'George': 55}"
      ]
    },
    {
      "cell_type": "code",
      "metadata": {
        "id": "BL1JM-Z7Gttf",
        "outputId": "9da8df3b-c6fb-4871-9e9d-e01db2de1b92",
        "colab": {
          "base_uri": "https://localhost:8080/"
        }
      },
      "source": [
        "def add_field():\n",
        "  science_scores = {\"Andy\" : 0, \"Angela\": 0}\n",
        "  science_scores[\"Andy\"] = 73\n",
        "  science_scores[\"Angela\"] = 73\n",
        "  science_scores[\"George\"] = 55\n",
        "\n",
        "  print(science_scores)\n",
        "\n",
        "add_field()\n"
      ],
      "execution_count": null,
      "outputs": [
        {
          "output_type": "stream",
          "name": "stdout",
          "text": [
            "{'Andy': 73, 'Angela': 73, 'George': 55}\n"
          ]
        }
      ]
    },
    {
      "cell_type": "markdown",
      "metadata": {
        "id": "_Vzv0zlHGt-C"
      },
      "source": [
        "---\n",
        "### Exercise 6 - loop through keys/value pairs\n",
        "\n",
        "Write a function which will use a *for* loop to print the each key/value pair in the science dictionary (recreate this dictionary in this function) \n",
        "\n",
        "*(Hint: you can iterate through the key/value pairs in the dictionary in the same way as you iterate through a loop (e.g. for record in dictionary) and print the record (which is the key) and its value)*\n",
        "\n",
        "Expected output:  \n",
        "\n",
        "Angela 72  \n",
        "Andy 72  \n",
        "George 55  "
      ]
    },
    {
      "cell_type": "code",
      "metadata": {
        "id": "JL40_-W-Hxnt",
        "outputId": "fddc8230-c975-4a49-e965-4a66764056c3",
        "colab": {
          "base_uri": "https://localhost:8080/"
        }
      },
      "source": [
        "def loop_through():\n",
        "  science_scores = {\"Andy\" : 0, \"Angela\": 0}\n",
        "  science_scores[\"Andy\"] = 72\n",
        "  science_scores[\"Angela\"] = 72\n",
        "  science_scores[\"George\"] = 55\n",
        "  \n",
        "  for name, score in science_scores.items():\n",
        "    print(name, score)\n",
        "  \n",
        "\n",
        "loop_through()\n",
        "\n",
        "\n",
        "\n"
      ],
      "execution_count": 1,
      "outputs": [
        {
          "output_type": "stream",
          "name": "stdout",
          "text": [
            "Andy 72\n",
            "Angela 72\n",
            "George 55\n"
          ]
        }
      ]
    },
    {
      "cell_type": "markdown",
      "metadata": {
        "id": "G9wamxzRJdrE"
      },
      "source": [
        "---\n",
        "### Exercise 7 - generate new dictionary  \n",
        "\n",
        "Write a functions which will:\n",
        "*  create a new dictionary where the keys are numbers between 1 and 15 (both included) and the values are square of keys\n",
        "*  print the dictionary\n",
        "\n",
        "Expected output:  \n",
        "{1: 1, 2: 4, 3: 9, 4: 16, 5: 25, 6: 36, 7: 49, 8: 64, 9: 81, 10: 100, 11: 121, 12: 144, 13: 169, 14: 196, 15: 225}"
      ]
    },
    {
      "cell_type": "code",
      "metadata": {
        "id": "1-LI-LVrJ--N",
        "outputId": "6e66edf0-172e-44c0-d66f-5cfcf2f4e320",
        "colab": {
          "base_uri": "https://localhost:8080/"
        }
      },
      "source": [
        "def gen_new():\n",
        "  square = {}\n",
        "  for i in range(1, 16):\n",
        "    square[i] = i**2\n",
        "     \n",
        "\n",
        "  print(square)\n",
        "\n",
        "gen_new()\n"
      ],
      "execution_count": null,
      "outputs": [
        {
          "output_type": "stream",
          "name": "stdout",
          "text": [
            "{1: 1, 2: 4, 3: 9, 4: 16, 5: 25, 6: 36, 7: 49, 8: 64, 9: 81, 10: 100, 11: 121, 12: 144, 13: 169, 14: 196, 15: 225}\n"
          ]
        }
      ]
    },
    {
      "cell_type": "markdown",
      "metadata": {
        "id": "t0y4mefwJ_jQ"
      },
      "source": [
        "---\n",
        "### Exercise 8 - colour dictionary  \n",
        "\n",
        "Write a function which will:  \n",
        "*  create a new dictionary record called colour_codes with the values 'red' - '#FF0000', 'green' - '#008000', 'black' - '#000000', 'white' - '#FFFFFF'\n",
        "*  add a new colour code:  'blue' - '#0000FF'    \n",
        "*  remove the colours black and white from the dictionary  \n",
        "\n",
        "*Hint:  there is a list of methods [here](https://www.w3schools.com/python/python_ref_dictionary.asp)*  "
      ]
    },
    {
      "cell_type": "code",
      "metadata": {
        "id": "yod1mUNOMeWg",
        "outputId": "0e3ba4e1-e671-4225-f3e6-cbe130f44caf",
        "colab": {
          "base_uri": "https://localhost:8080/"
        }
      },
      "source": [
        "def colour():\n",
        "  colour_codes = {\"red\":\"#FF0000\", \"green\":\"#008000\", \"black\":\"#000000\", \"white\":\"#FFFFFF\"}\n",
        "  colour_codes[\"blue\"] = \"#0000FF\"\n",
        "  colour_codes.pop(\"black\")\n",
        "  colour_codes.pop(\"white\")\n",
        "\n",
        "  print(colour_codes)\n",
        "\n",
        "colour()"
      ],
      "execution_count": null,
      "outputs": [
        {
          "output_type": "stream",
          "name": "stdout",
          "text": [
            "{'red': '#FF0000', 'green': '#008000', 'blue': '#0000FF'}\n"
          ]
        }
      ]
    },
    {
      "cell_type": "markdown",
      "metadata": {
        "id": "gjos_0vuMeyS"
      },
      "source": [
        "---\n",
        "### Exercise 9 - item tuples  \n",
        "\n",
        "Write a function which will:  \n",
        "*  create a new dictionary containing the colour codes for red, green, blue, black and white\n",
        "*  print the key/value pairs of a dictionary as a list of tuples  \n",
        "\n",
        "*Hint:  iterate through colours.items()*"
      ]
    },
    {
      "cell_type": "code",
      "metadata": {
        "id": "EzuMkUypOKTY",
        "outputId": "9b4f69e0-bd80-467a-a89f-3ab7b0ddcd78",
        "colab": {
          "base_uri": "https://localhost:8080/"
        }
      },
      "source": [
        "def item_tuples():\n",
        "  colour_codes = {\"red\":\"#FF0000\", \"green\":\"#008000\", \"black\":\"#000000\", \"white\":\"#FFFFFF\", \"blue\":\"#0000FF\"}\n",
        "  print(list(colour_codes.items()))\n",
        "\n",
        "item_tuples()"
      ],
      "execution_count": null,
      "outputs": [
        {
          "output_type": "stream",
          "name": "stdout",
          "text": [
            "[('red', '#FF0000'), ('green', '#008000'), ('black', '#000000'), ('white', '#FFFFFF'), ('blue', '#0000FF')]\n"
          ]
        }
      ]
    },
    {
      "cell_type": "markdown",
      "metadata": {
        "id": "Jw1ot10cOc6r"
      },
      "source": [
        "---\n",
        "### Exercise 10 - check if empty\n",
        "Taken from w3resouce.com  \n",
        "\n",
        "Write a function which will check if a dictionary is empty or not\n",
        "\n",
        "*Hint:  you can use bool(dictionary_name), if the dictionary is empty then bool(dictionary_name will be false)*\n",
        "\n",
        "Test 1 sample data:\n",
        "{}\n",
        "\n",
        "Expected output:\n",
        "Dictionary is empty  \n",
        "\n",
        "Test 2 sample data:  \n",
        "{\"name\":\"Groucho\", \"occupation\":\"comedian\"}\n",
        "\n",
        "Expected output:  \n",
        "Dictionary is not empty"
      ]
    },
    {
      "cell_type": "code",
      "metadata": {
        "id": "7UdM1TfwRqnt",
        "colab": {
          "base_uri": "https://localhost:8080/"
        },
        "outputId": "b28be3a5-e5f2-4929-c561-2024eb527597"
      },
      "source": [
        "def check_if_empty(my_dict):\n",
        "  if not bool(my_dict):\n",
        "    print(\"Dictionary is empty\")\n",
        "  else:\n",
        "    print(\"Dictionary is not empty\")\n",
        "\n",
        "check_if_empty({\"name\":\"Groucho\", \"occupation\":\"comedian\"})\n"
      ],
      "execution_count": null,
      "outputs": [
        {
          "output_type": "stream",
          "name": "stdout",
          "text": [
            "Dictionary is not empty\n"
          ]
        }
      ]
    }
  ]
}