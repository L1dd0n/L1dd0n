{
  "nbformat": 4,
  "nbformat_minor": 0,
  "metadata": {
    "colab": {
      "name": "SelectionChallenge.ipynb",
      "provenance": [],
      "collapsed_sections": [],
      "include_colab_link": true
    },
    "kernelspec": {
      "name": "python3",
      "display_name": "Python 3"
    }
  },
  "cells": [
    {
      "cell_type": "markdown",
      "metadata": {
        "id": "view-in-github",
        "colab_type": "text"
      },
      "source": [
        "<a href=\"https://colab.research.google.com/github/L1dd0n/L1dd0n/blob/main/SelectionChallenge.ipynb\" target=\"_parent\"><img src=\"https://colab.research.google.com/assets/colab-badge.svg\" alt=\"Open In Colab\"/></a>"
      ]
    },
    {
      "cell_type": "markdown",
      "metadata": {
        "id": "-QxAKPD8DZfj"
      },
      "source": [
        "# Three selection challenges\n",
        "\n",
        "---\n"
      ]
    },
    {
      "cell_type": "markdown",
      "metadata": {
        "id": "2KYUALILDcM9"
      },
      "source": [
        "### Challenge 1 - password format  \n",
        "\n",
        "Write a function called **check_password_valid()** which will check the validity of a **password** input by a user.\n",
        "\n",
        "Rules for a valid password are:  \n",
        "\n",
        "*  At least 1 letter between [a-z] and 1 letter between [A-Z].\n",
        "*  At least 1 number between [0-9].\n",
        "*  At least 1 character from [$#@].\n",
        "*  Minimum length 6 characters.\n",
        "*  Maximum length 16 characters.  \n",
        "\n",
        "Let the user know if the `password` they have typed is valid and, if not, where was the first error.\n",
        "\n",
        "*Hint:  to test if a set of characters is present in a password String, you can use re.search('[character set]', `password`)*  \n",
        "\n",
        "Example:   \n",
        "*if re.search('[a-z]',`password`):*    \n",
        "if there is at least 1 character a-z in the password, re.search will not be None.\n",
        "\n",
        "**re** is a pre-written Python function for pattern searching in Strings.  It has been imported for you in the code cell below.  "
      ]
    },
    {
      "cell_type": "code",
      "metadata": {
        "id": "8wBK9IA4BO2e",
        "colab": {
          "base_uri": "https://localhost:8080/"
        },
        "outputId": "06f77355-45a5-4743-b2f2-282a1858df18"
      },
      "source": [
        "import re\n",
        "\n",
        "def check_password_valid():\n",
        "  user_password = input(\"please enter a password: \")\n",
        "  valid = False\n",
        "  while valid == False:\n",
        "    if (len(user_password) < 6 or len(user_password) > 16):\n",
        "      print(\"invalid password - length is either too long or too short\")\n",
        "      break\n",
        "    elif not re.search(\"[a-z]\", user_password):\n",
        "      print(\"invalid passowrd - no 'a - z' varible present\")\n",
        "      break\n",
        "    elif not re.search(\"[A-Z]\", user_password):\n",
        "      print(\"invalid password - no 'A - Z' varible present\")\n",
        "      break\n",
        "    elif not re.search(\"[$#@]\", user_password):\n",
        "      print(\"invalid password - no '$#@' varible present\")\n",
        "      break\n",
        "    elif not re.search(\"[0-9]\", user_password):\n",
        "      print(\"invalid password - no '0 - 9' varible present\")\n",
        "      break\n",
        "    else:\n",
        "     print(\"valid password\")\n",
        "     valid = True \n",
        "\n",
        "check_password_valid()\n",
        "\n",
        "# add your check_PasswordValid() function and call below here\n",
        "\n",
        "\n"
      ],
      "execution_count": null,
      "outputs": [
        {
          "output_type": "stream",
          "name": "stdout",
          "text": [
            "please enter a password: hfgHDJ$3\n",
            "valid password\n"
          ]
        }
      ]
    },
    {
      "cell_type": "markdown",
      "metadata": {
        "id": "f0R4GYTEFQS-"
      },
      "source": [
        "---\n",
        "### Challenge 2 - triangle shape  \n",
        "\n",
        "Write a function called **evaluate_triangle_shape()** which will check if a triangle is equilateral, isosceles or scalene, based on the three side lengths entered by a user (**x**, **y** and **z**.\n",
        "\n",
        "An equilateral triangle is a triangle in which all three sides are equal.\n",
        "A scalene triangle is a triangle that has three unequal sides.\n",
        "An isosceles triangle is a triangle with (at least) two equal sides.\n",
        "\n",
        "For example:  \n",
        "A triange with side lengths                                 \n",
        "x: 6                                                                    \n",
        "y: 8                                                                    \n",
        "z: 12                                                                   \n",
        "is a *Scalene triangle*\n",
        "\n",
        "A triangle with side lengths\n",
        "x:5  \n",
        "y:3   \n",
        "z:5  \n",
        "is an *Isosceles triangle*"
      ]
    },
    {
      "cell_type": "code",
      "metadata": {
        "id": "oBgl4ro1DVL0",
        "outputId": "ad3b5fdd-3b04-4c87-81a0-dd83a6f6a395",
        "colab": {
          "base_uri": "https://localhost:8080/"
        }
      },
      "source": [
        "def evaluate_triangle_shape():\n",
        "  x = input(\"x: \")\n",
        "  y = input(\"y: \")\n",
        "  z = input(\"z: \")\n",
        "  if x == y and x == z: \n",
        "    print(\"is a  equilateral triangle.\")\n",
        "  elif x != y and x != z and y != z:\n",
        "    print(\"is a scalene triangle\")\n",
        "  elif x == y or x == z or y == z:\n",
        "    print(\"is a isosceles triangle\")\n",
        "\n",
        "evaluate_triangle_shape()\n",
        "\n"
      ],
      "execution_count": 4,
      "outputs": [
        {
          "output_type": "stream",
          "name": "stdout",
          "text": [
            "x: 3\n",
            "y: 4\n",
            "z: 5\n",
            "is a scalene triangle\n"
          ]
        }
      ]
    },
    {
      "cell_type": "markdown",
      "metadata": {
        "id": "hr2EotkqG33l"
      },
      "source": [
        "---\n",
        "### Challenge 3 - which season\n",
        "\n",
        "Write a function called **determine_season()** which will ask the user to enter two integers representing a **month** and **day** and prints the season for that month and day.\n",
        "\n",
        "Note:  for this exercise the season dates are:\n",
        "*  Winter December 21 to March 20    \n",
        "*  Spring March 21 to June 20  \n",
        "*  Summer June 21 to September 20  \n",
        "*  Autumn September 21 to December 20\n",
        "\n",
        "Test input:  \n",
        "Input the month (e.g. January, February etc.): 7                     \n",
        "Input the day: 31                                                       \n",
        "\n",
        "Expected output:  \n",
        "Season is summer \n",
        "\n",
        "*Note: this will require multiple and or or operators and you should use brackets to help Python know which operations to do first*  \n",
        "\n",
        "*For an extra challenge you can check that the day is valid for the month*"
      ]
    },
    {
      "cell_type": "code",
      "metadata": {
        "id": "cvbfz8nzG4IL",
        "outputId": "62fc2083-576d-4c37-9180-179ec7713719",
        "colab": {
          "base_uri": "https://localhost:8080/"
        }
      },
      "source": [
        "def  determine_season():\n",
        "  day = int(input(\"please enter a number for the day: \"))\n",
        "  month = int(input(\"please enter a number for the month: \"))\n",
        "  if month == 12 and day > 20 and day < 32:\n",
        "    print(\"season is Winter\")\n",
        "  elif month < 3 and day < 32:\n",
        "    print(\"season is Winter\")\n",
        "  elif month == 3 and day < 21:\n",
        "    print(\"season is Winter\")\n",
        "  elif month == 3 and day > 20 and day < 32:\n",
        "    print(\"season is Spring\")\n",
        "  elif month > 3 and month < 6 and day < 32:\n",
        "    print(\"season is Spring\")\n",
        "  elif month == 6 and day < 21:\n",
        "    print(\"season is Spring\")\n",
        "  elif month == 6 and day > 21 and day < 32:\n",
        "    print(\"season is Summer\")\n",
        "  elif month > 6 and month < 9 and day < 32:\n",
        "    print(\"season is Summer\")\n",
        "  elif month == 9 and day < 21:\n",
        "    print(\"season is Summer\")\n",
        "  elif month == 9 and day > 21 and day < 32:\n",
        "    print(\"season is Autumn\")\n",
        "  elif month > 9 and month < 12 and day < 32:\n",
        "    print(\"season is Autumn\")\n",
        "  elif month == 12 and day < 21:\n",
        "    print(\"season is Autumn\")\n",
        "  \n",
        "\n",
        "\n",
        "determine_season()"
      ],
      "execution_count": 22,
      "outputs": [
        {
          "output_type": "stream",
          "name": "stdout",
          "text": [
            "please enter a number for the day: 31\n",
            "please enter a number for the month: 7\n",
            "season is Summer\n"
          ]
        }
      ]
    }
  ]
}